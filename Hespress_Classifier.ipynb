{
 "cells": [
  {
   "cell_type": "code",
   "execution_count": 1,
   "id": "c30306bb",
   "metadata": {},
   "outputs": [],
   "source": [
    "#import libraries we gonna need.\n",
    "import warnings\n",
    "# Disable all warnings\n",
    "warnings.filterwarnings(\"ignore\")\n",
    "\n",
    "import pandas as pd\n",
    "import numpy as np\n",
    "import seaborn as sns\n",
    "import matplotlib.pyplot as plt"
   ]
  },
  {
   "cell_type": "code",
   "execution_count": 2,
   "id": "828feacb",
   "metadata": {},
   "outputs": [],
   "source": [
    "art_culture_df = pd.read_csv(\"stories_art-et-culture.csv\")\n",
    "economie_df = pd.read_csv(\"stories_economie.csv\")\n",
    "faits_divers_df = pd.read_csv(\"stories_faits-divers.csv\")\n",
    "marocains_df = pd.read_csv(\"stories_marocains-du-monde.csv\")\n",
    "medias_df = pd.read_csv(\"stories_medias.csv\")\n",
    "orbites_df = pd.read_csv(\"stories_orbites.csv\")\n",
    "politique_df = pd.read_csv(\"stories_politique.csv\")\n",
    "regions_df = pd.read_csv(\"stories_regions.csv\")\n",
    "societe_df = pd.read_csv(\"stories_societe.csv\")\n",
    "sport_df = pd.read_csv(\"stories_sport.csv\")\n",
    "tamazight_df = pd.read_csv(\"stories_tamazight.csv\")"
   ]
  },
  {
   "cell_type": "code",
   "execution_count": 3,
   "id": "39fc95ee",
   "metadata": {},
   "outputs": [],
   "source": [
    "final_df = pd.concat([art_culture_df, economie_df,faits_divers_df,marocains_df,medias_df,orbites_df,politique_df,regions_df,societe_df,sport_df,tamazight_df]\n",
    "                     , ignore_index=True)"
   ]
  },
  {
   "cell_type": "code",
   "execution_count": 4,
   "id": "9dbb2001",
   "metadata": {},
   "outputs": [],
   "source": [
    "final_df.drop('Unnamed: 0',axis=1,inplace=True)"
   ]
  },
  {
   "cell_type": "code",
   "execution_count": 5,
   "id": "ef3ee421",
   "metadata": {},
   "outputs": [
    {
     "data": {
      "text/plain": [
       "Index(['id', 'title', 'date', 'author', 'story', 'topic'], dtype='object')"
      ]
     },
     "execution_count": 5,
     "metadata": {},
     "output_type": "execute_result"
    }
   ],
   "source": [
    "final_df.columns"
   ]
  },
  {
   "cell_type": "code",
   "execution_count": 6,
   "id": "c63bfca3",
   "metadata": {},
   "outputs": [
    {
     "data": {
      "text/plain": [
       "(11000, 6)"
      ]
     },
     "execution_count": 6,
     "metadata": {},
     "output_type": "execute_result"
    }
   ],
   "source": [
    "final_df.shape"
   ]
  },
  {
   "cell_type": "code",
   "execution_count": 8,
   "id": "d53f8cd1",
   "metadata": {},
   "outputs": [
    {
     "data": {
      "text/plain": [
       "id        0\n",
       "title     0\n",
       "date      0\n",
       "author    0\n",
       "story     0\n",
       "topic     0\n",
       "dtype: int64"
      ]
     },
     "execution_count": 8,
     "metadata": {},
     "output_type": "execute_result"
    }
   ],
   "source": [
    "final_df.isnull().sum()"
   ]
  },
  {
   "cell_type": "code",
   "execution_count": 9,
   "id": "c2ae8644",
   "metadata": {},
   "outputs": [
    {
     "data": {
      "text/html": [
       "<div>\n",
       "<style scoped>\n",
       "    .dataframe tbody tr th:only-of-type {\n",
       "        vertical-align: middle;\n",
       "    }\n",
       "\n",
       "    .dataframe tbody tr th {\n",
       "        vertical-align: top;\n",
       "    }\n",
       "\n",
       "    .dataframe thead th {\n",
       "        text-align: right;\n",
       "    }\n",
       "</style>\n",
       "<table border=\"1\" class=\"dataframe\">\n",
       "  <thead>\n",
       "    <tr style=\"text-align: right;\">\n",
       "      <th></th>\n",
       "      <th>id</th>\n",
       "      <th>title</th>\n",
       "      <th>date</th>\n",
       "      <th>author</th>\n",
       "      <th>story</th>\n",
       "      <th>topic</th>\n",
       "    </tr>\n",
       "  </thead>\n",
       "  <tbody>\n",
       "    <tr>\n",
       "      <th>0</th>\n",
       "      <td>f06aa998054e11eba66e646e69d991ea</td>\n",
       "      <td>\"بيت الشعر\" يسائل وزير الثقافة عن كوابيس سوداء</td>\n",
       "      <td>الجمعة 02 أكتوبر 2020 - 23:19</td>\n",
       "      <td>هسبريس من الرباط</td>\n",
       "      <td>وجه \"بيت الشعر في المغرب\" إلى وزير الثقافة وال...</td>\n",
       "      <td>art-et-culture</td>\n",
       "    </tr>\n",
       "    <tr>\n",
       "      <th>1</th>\n",
       "      <td>f1cf1b9c054e11ebb718646e69d991ea</td>\n",
       "      <td>مهرجان \"سينما المؤلّف\" يستحضر روح ثريا جبران</td>\n",
       "      <td>الجمعة 02 أكتوبر 2020 - 07:26</td>\n",
       "      <td>هسبريس من الرباط</td>\n",
       "      <td>في ظلّ استمرار حالة الطوارئ الصحية المرتبطة بج...</td>\n",
       "      <td>art-et-culture</td>\n",
       "    </tr>\n",
       "    <tr>\n",
       "      <th>2</th>\n",
       "      <td>f2d282a4054e11eb800f646e69d991ea</td>\n",
       "      <td>فيلم \"بدون عنف\" لهشام العسري ..\"كعب الحذاء ووا...</td>\n",
       "      <td>الجمعة 02 أكتوبر 2020 - 04:00</td>\n",
       "      <td>عفيفة الحسينات*</td>\n",
       "      <td>تشير مشاهدة فيلم قصير ضمن الثلاثية الأخيرة للم...</td>\n",
       "      <td>art-et-culture</td>\n",
       "    </tr>\n",
       "    <tr>\n",
       "      <th>3</th>\n",
       "      <td>f3f46cac054e11eba403646e69d991ea</td>\n",
       "      <td>\"تنين ووهان\" .. مريم أيت أحمد توقِّع أولى \"روا...</td>\n",
       "      <td>الجمعة 02 أكتوبر 2020 - 02:00</td>\n",
       "      <td>حاورَها: وائل بورشاشن</td>\n",
       "      <td>مِن قَلب أيّام \"الحَجْر\"، رأتِ النّورَ الفصول ...</td>\n",
       "      <td>art-et-culture</td>\n",
       "    </tr>\n",
       "    <tr>\n",
       "      <th>4</th>\n",
       "      <td>f50f0476054e11eba31b646e69d991ea</td>\n",
       "      <td>مسكر يتخلّى عن دعم \"الوزارة\" بسبب \"الجمهور\"</td>\n",
       "      <td>الخميس 01 أكتوبر 2020 - 19:40</td>\n",
       "      <td>هسبريس من الرباط</td>\n",
       "      <td>أعلن الفنان المغربيّ سعيد مسكر تخليه عن مبلغ ا...</td>\n",
       "      <td>art-et-culture</td>\n",
       "    </tr>\n",
       "  </tbody>\n",
       "</table>\n",
       "</div>"
      ],
      "text/plain": [
       "                                 id  \\\n",
       "0  f06aa998054e11eba66e646e69d991ea   \n",
       "1  f1cf1b9c054e11ebb718646e69d991ea   \n",
       "2  f2d282a4054e11eb800f646e69d991ea   \n",
       "3  f3f46cac054e11eba403646e69d991ea   \n",
       "4  f50f0476054e11eba31b646e69d991ea   \n",
       "\n",
       "                                               title  \\\n",
       "0     \"بيت الشعر\" يسائل وزير الثقافة عن كوابيس سوداء   \n",
       "1       مهرجان \"سينما المؤلّف\" يستحضر روح ثريا جبران   \n",
       "2  فيلم \"بدون عنف\" لهشام العسري ..\"كعب الحذاء ووا...   \n",
       "3  \"تنين ووهان\" .. مريم أيت أحمد توقِّع أولى \"روا...   \n",
       "4        مسكر يتخلّى عن دعم \"الوزارة\" بسبب \"الجمهور\"   \n",
       "\n",
       "                            date                 author  \\\n",
       "0  الجمعة 02 أكتوبر 2020 - 23:19       هسبريس من الرباط   \n",
       "1  الجمعة 02 أكتوبر 2020 - 07:26       هسبريس من الرباط   \n",
       "2  الجمعة 02 أكتوبر 2020 - 04:00        عفيفة الحسينات*   \n",
       "3  الجمعة 02 أكتوبر 2020 - 02:00  حاورَها: وائل بورشاشن   \n",
       "4  الخميس 01 أكتوبر 2020 - 19:40       هسبريس من الرباط   \n",
       "\n",
       "                                               story           topic  \n",
       "0  وجه \"بيت الشعر في المغرب\" إلى وزير الثقافة وال...  art-et-culture  \n",
       "1  في ظلّ استمرار حالة الطوارئ الصحية المرتبطة بج...  art-et-culture  \n",
       "2  تشير مشاهدة فيلم قصير ضمن الثلاثية الأخيرة للم...  art-et-culture  \n",
       "3  مِن قَلب أيّام \"الحَجْر\"، رأتِ النّورَ الفصول ...  art-et-culture  \n",
       "4  أعلن الفنان المغربيّ سعيد مسكر تخليه عن مبلغ ا...  art-et-culture  "
      ]
     },
     "execution_count": 9,
     "metadata": {},
     "output_type": "execute_result"
    }
   ],
   "source": [
    "final_df.head()"
   ]
  },
  {
   "cell_type": "code",
   "execution_count": 10,
   "id": "bb7e13b2",
   "metadata": {},
   "outputs": [],
   "source": [
    "final_df.rename(columns={'topic': 'label'}, inplace=True)"
   ]
  },
  {
   "cell_type": "code",
   "execution_count": 11,
   "id": "5ad6c104",
   "metadata": {},
   "outputs": [
    {
     "data": {
      "text/html": [
       "<div>\n",
       "<style scoped>\n",
       "    .dataframe tbody tr th:only-of-type {\n",
       "        vertical-align: middle;\n",
       "    }\n",
       "\n",
       "    .dataframe tbody tr th {\n",
       "        vertical-align: top;\n",
       "    }\n",
       "\n",
       "    .dataframe thead th {\n",
       "        text-align: right;\n",
       "    }\n",
       "</style>\n",
       "<table border=\"1\" class=\"dataframe\">\n",
       "  <thead>\n",
       "    <tr style=\"text-align: right;\">\n",
       "      <th></th>\n",
       "      <th>id</th>\n",
       "      <th>title</th>\n",
       "      <th>date</th>\n",
       "      <th>author</th>\n",
       "      <th>story</th>\n",
       "      <th>label</th>\n",
       "    </tr>\n",
       "  </thead>\n",
       "  <tbody>\n",
       "    <tr>\n",
       "      <th>0</th>\n",
       "      <td>f06aa998054e11eba66e646e69d991ea</td>\n",
       "      <td>\"بيت الشعر\" يسائل وزير الثقافة عن كوابيس سوداء</td>\n",
       "      <td>الجمعة 02 أكتوبر 2020 - 23:19</td>\n",
       "      <td>هسبريس من الرباط</td>\n",
       "      <td>وجه \"بيت الشعر في المغرب\" إلى وزير الثقافة وال...</td>\n",
       "      <td>art-et-culture</td>\n",
       "    </tr>\n",
       "    <tr>\n",
       "      <th>1</th>\n",
       "      <td>f1cf1b9c054e11ebb718646e69d991ea</td>\n",
       "      <td>مهرجان \"سينما المؤلّف\" يستحضر روح ثريا جبران</td>\n",
       "      <td>الجمعة 02 أكتوبر 2020 - 07:26</td>\n",
       "      <td>هسبريس من الرباط</td>\n",
       "      <td>في ظلّ استمرار حالة الطوارئ الصحية المرتبطة بج...</td>\n",
       "      <td>art-et-culture</td>\n",
       "    </tr>\n",
       "    <tr>\n",
       "      <th>2</th>\n",
       "      <td>f2d282a4054e11eb800f646e69d991ea</td>\n",
       "      <td>فيلم \"بدون عنف\" لهشام العسري ..\"كعب الحذاء ووا...</td>\n",
       "      <td>الجمعة 02 أكتوبر 2020 - 04:00</td>\n",
       "      <td>عفيفة الحسينات*</td>\n",
       "      <td>تشير مشاهدة فيلم قصير ضمن الثلاثية الأخيرة للم...</td>\n",
       "      <td>art-et-culture</td>\n",
       "    </tr>\n",
       "    <tr>\n",
       "      <th>3</th>\n",
       "      <td>f3f46cac054e11eba403646e69d991ea</td>\n",
       "      <td>\"تنين ووهان\" .. مريم أيت أحمد توقِّع أولى \"روا...</td>\n",
       "      <td>الجمعة 02 أكتوبر 2020 - 02:00</td>\n",
       "      <td>حاورَها: وائل بورشاشن</td>\n",
       "      <td>مِن قَلب أيّام \"الحَجْر\"، رأتِ النّورَ الفصول ...</td>\n",
       "      <td>art-et-culture</td>\n",
       "    </tr>\n",
       "    <tr>\n",
       "      <th>4</th>\n",
       "      <td>f50f0476054e11eba31b646e69d991ea</td>\n",
       "      <td>مسكر يتخلّى عن دعم \"الوزارة\" بسبب \"الجمهور\"</td>\n",
       "      <td>الخميس 01 أكتوبر 2020 - 19:40</td>\n",
       "      <td>هسبريس من الرباط</td>\n",
       "      <td>أعلن الفنان المغربيّ سعيد مسكر تخليه عن مبلغ ا...</td>\n",
       "      <td>art-et-culture</td>\n",
       "    </tr>\n",
       "  </tbody>\n",
       "</table>\n",
       "</div>"
      ],
      "text/plain": [
       "                                 id  \\\n",
       "0  f06aa998054e11eba66e646e69d991ea   \n",
       "1  f1cf1b9c054e11ebb718646e69d991ea   \n",
       "2  f2d282a4054e11eb800f646e69d991ea   \n",
       "3  f3f46cac054e11eba403646e69d991ea   \n",
       "4  f50f0476054e11eba31b646e69d991ea   \n",
       "\n",
       "                                               title  \\\n",
       "0     \"بيت الشعر\" يسائل وزير الثقافة عن كوابيس سوداء   \n",
       "1       مهرجان \"سينما المؤلّف\" يستحضر روح ثريا جبران   \n",
       "2  فيلم \"بدون عنف\" لهشام العسري ..\"كعب الحذاء ووا...   \n",
       "3  \"تنين ووهان\" .. مريم أيت أحمد توقِّع أولى \"روا...   \n",
       "4        مسكر يتخلّى عن دعم \"الوزارة\" بسبب \"الجمهور\"   \n",
       "\n",
       "                            date                 author  \\\n",
       "0  الجمعة 02 أكتوبر 2020 - 23:19       هسبريس من الرباط   \n",
       "1  الجمعة 02 أكتوبر 2020 - 07:26       هسبريس من الرباط   \n",
       "2  الجمعة 02 أكتوبر 2020 - 04:00        عفيفة الحسينات*   \n",
       "3  الجمعة 02 أكتوبر 2020 - 02:00  حاورَها: وائل بورشاشن   \n",
       "4  الخميس 01 أكتوبر 2020 - 19:40       هسبريس من الرباط   \n",
       "\n",
       "                                               story           label  \n",
       "0  وجه \"بيت الشعر في المغرب\" إلى وزير الثقافة وال...  art-et-culture  \n",
       "1  في ظلّ استمرار حالة الطوارئ الصحية المرتبطة بج...  art-et-culture  \n",
       "2  تشير مشاهدة فيلم قصير ضمن الثلاثية الأخيرة للم...  art-et-culture  \n",
       "3  مِن قَلب أيّام \"الحَجْر\"، رأتِ النّورَ الفصول ...  art-et-culture  \n",
       "4  أعلن الفنان المغربيّ سعيد مسكر تخليه عن مبلغ ا...  art-et-culture  "
      ]
     },
     "execution_count": 11,
     "metadata": {},
     "output_type": "execute_result"
    }
   ],
   "source": [
    "final_df.head()"
   ]
  },
  {
   "cell_type": "code",
   "execution_count": 12,
   "id": "cc45d430",
   "metadata": {},
   "outputs": [],
   "source": [
    "final_df.drop('id',axis=1,inplace=True)"
   ]
  },
  {
   "cell_type": "code",
   "execution_count": 13,
   "id": "eadbfe5d",
   "metadata": {},
   "outputs": [
    {
     "data": {
      "text/html": [
       "<div>\n",
       "<style scoped>\n",
       "    .dataframe tbody tr th:only-of-type {\n",
       "        vertical-align: middle;\n",
       "    }\n",
       "\n",
       "    .dataframe tbody tr th {\n",
       "        vertical-align: top;\n",
       "    }\n",
       "\n",
       "    .dataframe thead th {\n",
       "        text-align: right;\n",
       "    }\n",
       "</style>\n",
       "<table border=\"1\" class=\"dataframe\">\n",
       "  <thead>\n",
       "    <tr style=\"text-align: right;\">\n",
       "      <th></th>\n",
       "      <th>title</th>\n",
       "      <th>date</th>\n",
       "      <th>author</th>\n",
       "      <th>story</th>\n",
       "      <th>label</th>\n",
       "    </tr>\n",
       "  </thead>\n",
       "  <tbody>\n",
       "    <tr>\n",
       "      <th>0</th>\n",
       "      <td>\"بيت الشعر\" يسائل وزير الثقافة عن كوابيس سوداء</td>\n",
       "      <td>الجمعة 02 أكتوبر 2020 - 23:19</td>\n",
       "      <td>هسبريس من الرباط</td>\n",
       "      <td>وجه \"بيت الشعر في المغرب\" إلى وزير الثقافة وال...</td>\n",
       "      <td>art-et-culture</td>\n",
       "    </tr>\n",
       "    <tr>\n",
       "      <th>1</th>\n",
       "      <td>مهرجان \"سينما المؤلّف\" يستحضر روح ثريا جبران</td>\n",
       "      <td>الجمعة 02 أكتوبر 2020 - 07:26</td>\n",
       "      <td>هسبريس من الرباط</td>\n",
       "      <td>في ظلّ استمرار حالة الطوارئ الصحية المرتبطة بج...</td>\n",
       "      <td>art-et-culture</td>\n",
       "    </tr>\n",
       "    <tr>\n",
       "      <th>2</th>\n",
       "      <td>فيلم \"بدون عنف\" لهشام العسري ..\"كعب الحذاء ووا...</td>\n",
       "      <td>الجمعة 02 أكتوبر 2020 - 04:00</td>\n",
       "      <td>عفيفة الحسينات*</td>\n",
       "      <td>تشير مشاهدة فيلم قصير ضمن الثلاثية الأخيرة للم...</td>\n",
       "      <td>art-et-culture</td>\n",
       "    </tr>\n",
       "    <tr>\n",
       "      <th>3</th>\n",
       "      <td>\"تنين ووهان\" .. مريم أيت أحمد توقِّع أولى \"روا...</td>\n",
       "      <td>الجمعة 02 أكتوبر 2020 - 02:00</td>\n",
       "      <td>حاورَها: وائل بورشاشن</td>\n",
       "      <td>مِن قَلب أيّام \"الحَجْر\"، رأتِ النّورَ الفصول ...</td>\n",
       "      <td>art-et-culture</td>\n",
       "    </tr>\n",
       "    <tr>\n",
       "      <th>4</th>\n",
       "      <td>مسكر يتخلّى عن دعم \"الوزارة\" بسبب \"الجمهور\"</td>\n",
       "      <td>الخميس 01 أكتوبر 2020 - 19:40</td>\n",
       "      <td>هسبريس من الرباط</td>\n",
       "      <td>أعلن الفنان المغربيّ سعيد مسكر تخليه عن مبلغ ا...</td>\n",
       "      <td>art-et-culture</td>\n",
       "    </tr>\n",
       "  </tbody>\n",
       "</table>\n",
       "</div>"
      ],
      "text/plain": [
       "                                               title  \\\n",
       "0     \"بيت الشعر\" يسائل وزير الثقافة عن كوابيس سوداء   \n",
       "1       مهرجان \"سينما المؤلّف\" يستحضر روح ثريا جبران   \n",
       "2  فيلم \"بدون عنف\" لهشام العسري ..\"كعب الحذاء ووا...   \n",
       "3  \"تنين ووهان\" .. مريم أيت أحمد توقِّع أولى \"روا...   \n",
       "4        مسكر يتخلّى عن دعم \"الوزارة\" بسبب \"الجمهور\"   \n",
       "\n",
       "                            date                 author  \\\n",
       "0  الجمعة 02 أكتوبر 2020 - 23:19       هسبريس من الرباط   \n",
       "1  الجمعة 02 أكتوبر 2020 - 07:26       هسبريس من الرباط   \n",
       "2  الجمعة 02 أكتوبر 2020 - 04:00        عفيفة الحسينات*   \n",
       "3  الجمعة 02 أكتوبر 2020 - 02:00  حاورَها: وائل بورشاشن   \n",
       "4  الخميس 01 أكتوبر 2020 - 19:40       هسبريس من الرباط   \n",
       "\n",
       "                                               story           label  \n",
       "0  وجه \"بيت الشعر في المغرب\" إلى وزير الثقافة وال...  art-et-culture  \n",
       "1  في ظلّ استمرار حالة الطوارئ الصحية المرتبطة بج...  art-et-culture  \n",
       "2  تشير مشاهدة فيلم قصير ضمن الثلاثية الأخيرة للم...  art-et-culture  \n",
       "3  مِن قَلب أيّام \"الحَجْر\"، رأتِ النّورَ الفصول ...  art-et-culture  \n",
       "4  أعلن الفنان المغربيّ سعيد مسكر تخليه عن مبلغ ا...  art-et-culture  "
      ]
     },
     "execution_count": 13,
     "metadata": {},
     "output_type": "execute_result"
    }
   ],
   "source": [
    "final_df.head()"
   ]
  },
  {
   "cell_type": "code",
   "execution_count": 17,
   "id": "eb42c8ad",
   "metadata": {},
   "outputs": [
    {
     "data": {
      "text/plain": [
       "title     object\n",
       "date      object\n",
       "author    object\n",
       "story     object\n",
       "label     object\n",
       "dtype: object"
      ]
     },
     "execution_count": 17,
     "metadata": {},
     "output_type": "execute_result"
    }
   ],
   "source": [
    "final_df.dtypes"
   ]
  },
  {
   "cell_type": "code",
   "execution_count": 15,
   "id": "2968324d",
   "metadata": {},
   "outputs": [],
   "source": [
    "# checking distribution of data\n",
    "def create_distribution(feature):\n",
    "    return sns.countplot(final_df[feature])"
   ]
  },
  {
   "cell_type": "code",
   "execution_count": 19,
   "id": "c5c29367",
   "metadata": {},
   "outputs": [
    {
     "data": {
      "image/png": "[encoded data removed]",
      "text/plain": [
       "<Figure size 1000x600 with 1 Axes>"
      ]
     },
     "metadata": {},
     "output_type": "display_data"
    }
   ],
   "source": [
    "# Count the occurrences of each label in the dataset\n",
    "label_counts = final_df['label'].value_counts()\n",
    "\n",
    "# Create a bar plot to visualize the distribution of labels\n",
    "plt.figure(figsize=(10, 6))\n",
    "plt.bar(label_counts.index, label_counts.values)\n",
    "plt.xlabel('Labels')\n",
    "plt.ylabel('Count')\n",
    "plt.title('Distribution of Labels in the Dataset')\n",
    "plt.xticks(rotation=45) \n",
    "plt.show()"
   ]
  },
  {
   "cell_type": "code",
   "execution_count": 21,
   "id": "50b9ff03",
   "metadata": {},
   "outputs": [],
   "source": [
    "stories = final_df.copy()"
   ]
  },
  {
   "cell_type": "markdown",
   "id": "e6eea831",
   "metadata": {},
   "source": [
    "note we will consider only story column for pre-processing"
   ]
  },
  {
   "cell_type": "code",
   "execution_count": 22,
   "id": "f7014b6b",
   "metadata": {},
   "outputs": [
    {
     "name": "stderr",
     "output_type": "stream",
     "text": [
      "[nltk_data] Downloading package stopwords to\n",
      "[nltk_data]     C:\\Users\\sigma\\AppData\\Roaming\\nltk_data...\n",
      "[nltk_data]   Package stopwords is already up-to-date!\n",
      "[nltk_data] Error loading arabic: Package 'arabic' not found in index\n",
      "[nltk_data] Downloading package punkt to\n",
      "[nltk_data]     C:\\Users\\sigma\\AppData\\Roaming\\nltk_data...\n",
      "[nltk_data]   Package punkt is already up-to-date!\n"
     ]
    }
   ],
   "source": [
    "import nltk\n",
    "nltk.download(\"stopwords\")\n",
    "from nltk.corpus import stopwords\n",
    "from nltk.stem import ISRIStemmer\n",
    "nltk.download('arabic')\n",
    "nltk.download('punkt')\n",
    "from nltk import word_tokenize\n",
    "from nltk.probability import FreqDist\n",
    "import arabic_reshaper\n",
    "import string"
   ]
  },
  {
   "cell_type": "code",
   "execution_count": 23,
   "id": "ffeb8ae5",
   "metadata": {},
   "outputs": [
    {
     "data": {
      "text/plain": [
       "'وجه \"بيت الشعر في المغرب\" إلى وزير الثقافة والشباب والرياضة رسالة موسومة بـ\"لماذا تحولت أحلام بيضاء إلى كوابيس سوداء؟\"، أشار من خلالها إلى أن \"بيت الشعر تأسّس سنة 1996 بهدف تحقيق جُملة من الأهداف التي تروم جميعُها تعزيز مكانة الشّعر في المجتمع والحياة وترسيخ مكانته بين الناس كحاملٍ لقيم الحلم والخيال؛ فمن تلك الأهداف توطين الشعر المغربي في المقررات الدراسية وتشجيع التلاميذ والطلبة على قراءته وتذوّق جمالياته، خاصّة في اللحظة التي ينتصرُ فيها لكل ما هو مدهش وإنساني\".وجاء في الرسالة، التي توصلت هسبريس بنسخة منها، أن \"بيت الشعر نجح في المغرب خلال مسيرته الطويلة التي تمتدّ على مدى ربع قرن في إقناع المنظمة العالمية للتربية والثقافة والعلوم (اليونيسكو) بإحداث يوم عالمي للشعر عن طريق المقترح الذي تقدّم به، والذي تبنته الحكومة المغربية في عهد الراحل عبد الرحمان اليوسفي، كما نجح في ضمان مكانة عالمية لجائزته الشعرية المعروفة \"الأركانة\" التي صار شعراء العالم يتطلعون للفوز بها، علاوة على انتظام منشوراته الشعرية ومجلته الرصينة \"البيت\"، واستدامة برامجه الشعرية بالتعاون مع عدد من الشركاء الذين آمنوا بجدية مشروع مؤسستنا وجودة مستواه فنيا وجماليا\".وأشارت الرسالة ذاتها إلى أنه \"سعيا من بيت الشعر في المغرب إلى تقديم خِدمة جديدة للشعر المغربي، بربطه بالفضاء الإبداعي العام وخاصة الموسيقي والغنائي منه، واستعادةِ لحظات طيبة الذكر تعانق فيها شعرُنا المغربي (عبد الرفيع جواهري وإدريس الجاي والخمار الكنوني وحسن المفتي وأحمد الطيب لعلج وعلي الحداني...) مع أوتار وألحان (عبد السلام عامر وعبد النبي الجيراري وحسن القدميري...)، تقدم بمشروع فني تحت عنوان أحلام بيضاء\".وأوضح \"بيت الشعر\" أن المشروع \"عبارة عن مقطوعات غنائية جعلت من الشعر المغربي متنا لها، بهدف استعادة ماض جميل، أثرى خلاله الشعراء المغاربة السّجل الشعري للأغنية المغربية، فقد منحُوها قصائد تحوّلت، من خلال أوتار مُلحنين مُقتدرين، إلى أغانٍ تتردّد على ألسنة وشفاهِ الناس في المناسبات والأفراح والأعراس، بل إنّ بعضها سيحظَى باهتمام مطربين مشارقة، أعادوا أداءها وتسجيلها من جديد بأصواتهم\".وورد في الرسالة ذاتها أنه \"نجاحٌ ما كان له أنْ يتحقـّق لولا أنّ هؤلاء الشعراء كتبوا قصائدَهم من داخل تجربتهم الإنسانية وفي أفق الرؤية التي امتلكوها تجاه اللغة والمجتمع والكون، وليس تحت الطلب أو إرغامات سوق الغناء\".وحسب الرسالة ذاتها، فإنه \"لأول مرّة في تاريخ برنامج الوزارة لدعم الأغنية المغربية تتقدّم هيأة متخصّصة كبيت الشعر في المغرب بمشروعٍ ذي رؤية مندمجة، تربطُ الشعر المغربي بأفُقه الفنّي من أجل أن يحظى بمساحةٍ أوسع للانتشار عبر الأغنية؛ حيث يصيرُ بمقدور الجمهور المغربي أن يتعرّف على شعرائنا المغاربة، ليس من خلال دواوينهم الشعرية أو عبر أمسياتهم الثقافية، بل من خلال الأغنية كلحظة فنية تتجمّع وتنصهر فيها عدّة أبعاد شعرية، ولحنية موسيقية، وطربية غنائية...\".وقد سبق للفنانة صباح زيداني أن جعلت من الشعر المغربي أفقا لتفكيرها واشتغالها، تضيف الرسالة ذاتها، \"عندما قدمت بعضا من نصوصه الجميلة للشعراء بوجمعة العوفي وعبد الهادي السعيد، كما خاضت تجربة فنية مع الشاعر المغربي الكبير عبد الله زريقة بمعية ثلة من الشعراء والموسيقيين الأجانب؛ وهو ما يجعل وجودَها ضمن هذا المشروع تثمينا لهذه الإرادة التي تلتقي فيها برغبة بيت الشعر في المغرب، في أن يكون شعرنا المغربي حاضرا في مختلف الحوامل التي تتيح له الذيوع والانتشار (مسرح، تشكيل، أغنية...)\".وأكّد \"بيت الشعر\" أن \"تشبيك الفنُون في ما بينها وتجسير الصلات بين مكوناتها أحد أهم مخرجات هذا المشروع، الذي يجمع شعراء مرموقين، بملحنين مقتدرين وموزعين أكفاء وعازفين ماهرين، عِلاوة على الحضور الواعي والباذخ للفنانة صباح زيداني؛ جميع هؤلاء انخرطوا في هذا المشروع من أجل أنْ نعيد للكلمة الشعرية بريقها في لحظة تعالقِها مع اللحن والموسيقى\".واختتم \"بيت الشعر\" رسالته بالتساؤل: \"لماذا تحولت الأحلام البيضاء إلى كوابيس سوداء؟ ولماذا خيّبت اللجنة التي شكلتموها من أجل دعم الأغنية المغربية والارتقاء بمستواها ظنكم وظن الشعب المغربي الذي يموّل من ماله العام سياسة ثقافية فاشلة؟ وماذا ستفعلون لإنصاف بيت الشعر في المغرب وتحقيق المساواة وتكافؤ الفرص التي ينص عليها دستور المملكة؟ وكيف ستردون من خلال إجراءات عملية وتدابير إدارية عن الضجة- الفضيحة التي خلفتها نتائج هذه السنة في مجال دعم الأغنية؟\"، مضيفا \"إننا نطعن في نتائج هذه الدورة من برنامج دعم الموسيقى والأغنية، وإننا ننتظر ما ستقومون به\".'"
      ]
     },
     "execution_count": 23,
     "metadata": {},
     "output_type": "execute_result"
    }
   ],
   "source": [
    "data=stories['story'][0]\n",
    "data"
   ]
  },
  {
   "cell_type": "code",
   "execution_count": 28,
   "id": "ae4089d4",
   "metadata": {},
   "outputs": [],
   "source": [
    "st = ISRIStemmer()\n",
    "corpus=[]\n",
    "\n",
    "for i in range(len(stories)):\n",
    "    arabic_text_data = stories['story'][i]\n",
    "    \n",
    "    # Tokenize the Arabic text data\n",
    "    tokens = word_tokenize(arabic_text_data)\n",
    "    arabic_stop_words = set(stopwords.words('arabic'))\n",
    "    \n",
    "    tokens = [token for token in tokens if token not in arabic_stop_words]\n",
    "    \n",
    "    # Remove punctuation and non-word characters\n",
    "    tokens = [token for token in tokens if token not in string.punctuation]\n",
    "    \n",
    "    # Remove non-alphabetic tokens\n",
    "    tokens = [token for token in tokens if token.isalpha()]\n",
    "    \n",
    "    # Stemming Arabic Text\n",
    "    tokens = [st.stem(token) for token in tokens]\n",
    "    \n",
    "    sentences = ' '.join(tokens)\n",
    "    corpus.append(sentences)"
   ]
  },
  {
   "cell_type": "code",
   "execution_count": 31,
   "id": "a17ba9ec",
   "metadata": {},
   "outputs": [
    {
     "data": {
      "text/plain": [
       "'وجه بيت شعر غرب وزر ثقف شبب ريض رسل وسم بـ لمذ تحل حلم يضء كوابيس اشر خلل بيت شعر سنة هدف حقق هدف ترم عزز كان جمع حية رسخ كنت ناس لقم حلم هدف توط شعر غرب قرر درس شجع لمذ طلب قرء لحظ لكل دهش إنس وصل هسبريس نسخ بيت شعر نجح غرب خلل سير طول مدى ربع قرن قنع نظم علم ربي ثقف علم سكو إحداث يوم علم شعر طرق قرح تبن حكم غرب عهد رحل عبد رحم نجح ضمن كان علم لجز شعر عرف ركن شعراء علم طلع فوز علو نظم منشوراته شعر مجل رصن بيت واستدامة رمج شعر تعا عدد شركاء امن بجد شرع ؤسس وجد واه فنا جمل رسل ذات انه سعا بيت شعر غرب قدم جدد شعر ربط فضء بدع عام وخص وسق غني لحظ طيب ذكر عنق غرب عبد رفع جهر إدريس جاي خمر كنو وحس فتي أحمد طيب علج وعل حدا وار ألح عبد سلم عمر عبد نبي جيرار وحس قدمير قدم شرع فني عنو حلم يضء بيت شعر شرع عبر قطع غني جعل شعر غرب تنا هدف عاد ماض ثرى خلل شعراء غرب شعر غني فقد قصد خلل وار لسن ناس نسب فرح بعض همم طرب اعد ادء سجل جدد أصو رسل ذات انه شعراء كتب دخل جرب سان وفي افق رؤة تلكو لغة جمع وليس طلب رغم سوق غنء رسل فإن لأل ارخ رنمج وزر دعم غني غرب هيأ كبت شعر غرب رؤة شعر غرب حظى وسع نشر عبر قدر جمهور غرب شعرائ خلل دوي شعر عبر امس خلل غني كلحظ فنة صهر بعد ولح طرب غني سبق فنن زيد جعل شعر غرب افق فكر تضف رسل عند قدم بعض نصص جمل شعراء جمع عوف عبد هدي خضت جرب فنة شعر غرب كبر عبد الل زرق بمع ثلة شعراء وسق جعل ضمن شرع تثم لهذ ردة لقي رغب بيت شعر يكون شعر غرب حضر خلف حمل تتح ذيع نشر غني بيت شعر شبك بين جسر صلت كون اهم خرج جمع شعراء ملح قدر وزع كفء عزف حضر وعي بذخ فنن خرط شرع نعد كلم شعر برق لحظ لحن موسيقى بيت شعر رسل سؤل لمذ تحل حلم يضء كوابيس لمذ لجن شكلتمو دعم غني غرب رقء ستو ظنكم وظن شعب غرب اله عام سيس ثقف ومذ فعل إنصاف بيت شعر غرب حقق ساا كفؤ فرص ينص عليها دستور وكف ترد خلل جرء عمل دبر دري فضح خلف نتج سنة جال دعم ضيف انن نطع نتج دور رنمج دعم موسيقى وإن تظر تقم'"
      ]
     },
     "execution_count": 31,
     "metadata": {},
     "output_type": "execute_result"
    }
   ],
   "source": [
    "corpus[0]"
   ]
  },
  {
   "cell_type": "code",
   "execution_count": 32,
   "id": "741d8d1a",
   "metadata": {},
   "outputs": [
    {
     "data": {
      "text/plain": [
       "11000"
      ]
     },
     "execution_count": 32,
     "metadata": {},
     "output_type": "execute_result"
    }
   ],
   "source": [
    "len(corpus)"
   ]
  },
  {
   "cell_type": "code",
   "execution_count": 35,
   "id": "b360f277",
   "metadata": {},
   "outputs": [],
   "source": [
    "from sklearn.feature_extraction.text import CountVectorizer\n",
    "\n",
    "max_features=500 \n",
    "\n",
    "count_vectorizer=CountVectorizer(max_features=max_features)"
   ]
  },
  {
   "cell_type": "code",
   "execution_count": 36,
   "id": "f980f93f",
   "metadata": {},
   "outputs": [],
   "source": [
    "X=count_vectorizer.fit_transform(corpus).toarray()"
   ]
  },
  {
   "cell_type": "code",
   "execution_count": 37,
   "id": "e51056a3",
   "metadata": {},
   "outputs": [
    {
     "data": {
      "text/plain": [
       "(11000, 500)"
      ]
     },
     "execution_count": 37,
     "metadata": {},
     "output_type": "execute_result"
    }
   ],
   "source": [
    "X.shape"
   ]
  },
  {
   "cell_type": "code",
   "execution_count": 39,
   "id": "87c1f2a7",
   "metadata": {},
   "outputs": [
    {
     "data": {
      "text/plain": [
       "array([[0, 0, 1, ..., 0, 0, 1],\n",
       "       [0, 0, 0, ..., 1, 0, 0],\n",
       "       [0, 0, 0, ..., 7, 1, 0],\n",
       "       ...,\n",
       "       [0, 0, 0, ..., 1, 0, 0],\n",
       "       [1, 0, 0, ..., 0, 0, 0],\n",
       "       [0, 0, 0, ..., 0, 0, 0]], dtype=int64)"
      ]
     },
     "execution_count": 39,
     "metadata": {},
     "output_type": "execute_result"
    }
   ],
   "source": [
    "X"
   ]
  },
  {
   "cell_type": "code",
   "execution_count": 43,
   "id": "5d8846c1",
   "metadata": {},
   "outputs": [
    {
     "name": "stdout",
     "output_type": "stream",
     "text": [
      "Top 500 the most used word in Stories: ['أثر' 'أكد' 'ؤسس' 'ؤكد' 'إقليم' 'ائة' 'ابع' 'ابن' 'اثر' 'اجتماعية' 'اخر'\n",
      " 'ادة' 'ارخ' 'ازغ' 'ازم' 'اسر' 'اسس' 'اسم' 'اصب' 'اصل' 'اطر' 'اعل'\n",
      " 'اقتصادية' 'اكد' 'الة' 'الف' 'الل' 'اله' 'الي' 'اليوم' 'امازيغية' 'امر'\n",
      " 'امم' 'امن' 'انس' 'انه' 'اول' 'ايم' 'بأن' 'بحث' 'بحر' 'بدأ' 'بدر' 'بدع'\n",
      " 'بدل' 'بدي' 'بذل' 'برز' 'بشر' 'بطل' 'بعد' 'بعض' 'بـ' 'بقى' 'بكل' 'بلد'\n",
      " 'بلغ' 'بمد' 'بن' 'بنء' 'بنك' 'بين' 'تبع' 'تحد' 'تحدث' 'تحل' 'تخذ' 'تصل'\n",
      " 'تضم' 'تطر' 'تعا' 'تعلق' 'تفش' 'تفق' 'تكو' 'تكون' 'تم' 'تهم' 'توج' 'ثقف'\n",
      " 'ثلث' 'ثمر' 'ثني' 'جئح' 'جاء' 'جال' 'جدد' 'جرء' 'جرب' 'جرد' 'جرم' 'جري'\n",
      " 'جزر' 'جعل' 'جلس' 'جلي' 'جمع' 'جمل' 'جنب' 'جهة' 'جهت' 'جهد' 'جهز' 'جهي'\n",
      " 'جوز' 'حال' 'حجر' 'حجز' 'حدث' 'حدد' 'حرب' 'حرر' 'حرف' 'حرك' 'حرم' 'حزب'\n",
      " 'حسب' 'حسن' 'حصل' 'حضر' 'حفظ' 'حفل' 'حقق' 'حكم' 'حلة' 'حلل' 'حلي' 'حمد'\n",
      " 'حمل' 'حمي' 'حور' 'حول' 'حية' 'خاص' 'خبر' 'خدم' 'خرج' 'خرط' 'خرى' 'خصة'\n",
      " 'خصص' 'خضع' 'خطب' 'خطر' 'خطط' 'خفض' 'خلف' 'خلق' 'خلل' 'خمس' 'خير' 'دار'\n",
      " 'دبر' 'دخل' 'درب' 'درة' 'درج' 'درس' 'درك' 'دري' 'دستور' 'دعم' 'دعي' 'دفع'\n",
      " 'دور' 'دول' 'دير' 'دين' 'ذات' 'ذته' 'ذكر' 'رأس' 'رئس' 'ربط' 'ربع' 'ربي'\n",
      " 'رجع' 'رجل' 'رحل' 'رحم' 'رسل' 'رسم' 'رصد' 'رغب' 'رغم' 'رفض' 'رفع' 'رفق'\n",
      " 'رقب' 'رقم' 'ركب' 'ركز' 'رلم' 'رمج' 'رنس' 'رنمج' 'رهن' 'روح' 'ريض' 'زمن'\n",
      " 'زيد' 'سؤل' 'ساء' 'ساذ' 'سار' 'سبب' 'سبع' 'سبق' 'سبن' 'ستى' 'سجد' 'سجل'\n",
      " 'سدس' 'سرح' 'سرع' 'سسي' 'سعة' 'سعد' 'سفر' 'سكن' 'سلب' 'سلح' 'سلط' 'سلم'\n",
      " 'سمح' 'سنة' 'سنو' 'سهل' 'سهم' 'سوء' 'سوق' 'سيح' 'سيد' 'سير' 'سيس' 'سيق'\n",
      " 'شأن' 'شار' 'شبب' 'شبك' 'شبه' 'شخص' 'شدد' 'شرط' 'شرع' 'شرف' 'شرق' 'شرك'\n",
      " 'شعب' 'شعر' 'شغل' 'شكل' 'شمل' 'شهد' 'شهر' 'شير' 'صبة' 'صبح' 'صحب' 'صحة'\n",
      " 'صحف' 'صحي' 'صدر' 'صدق' 'صرح' 'صعب' 'صعد' 'صلة' 'صلح' 'صنع' 'صور' 'ضبط'\n",
      " 'ضد' 'ضرب' 'ضرر' 'ضعف' 'ضفة' 'ضمن' 'ضيف' 'طبع' 'طبق' 'طرئ' 'طرح' 'طرف'\n",
      " 'طرق' 'طفل' 'طلب' 'طلع' 'طلق' 'طور' 'طول' 'ظرف' 'ظل' 'ظهر' 'عام' 'عبد'\n",
      " 'عبر' 'عدة' 'عدد' 'عدل' 'عدم' 'عرب' 'عرض' 'عرف' 'عزز' 'عسكر' 'عشر' 'عصم'\n",
      " 'عطي' 'عقب' 'عقد' 'عقل' 'عكس' 'علج' 'علق' 'علم' 'على' 'علي' 'عليها' 'عمة'\n",
      " 'عمد' 'عمر' 'عمل' 'عمم' 'عند' 'عنصر' 'عنه' 'عني' 'عهد' 'عود' 'عين' 'غرب'\n",
      " 'غلب' 'غلق' 'غيب' 'غير' 'فاد' 'فتح' 'فتر' 'فرد' 'فرص' 'فرض' 'فرق' 'فصل'\n",
      " 'فضل' 'فعل' 'فقد' 'فقط' 'فكر' 'فنن' 'فهم' 'قئل' 'قال' 'قان' 'قبل' 'قدر'\n",
      " 'قدم' 'قرء' 'قرب' 'قرح' 'قرر' 'قرن' 'قسم' 'قصد' 'قصر' 'قضا' 'قضة' 'قضي'\n",
      " 'قطع' 'قعد' 'قلل' 'قلم' 'قنن' 'قوة' 'قول' 'قيد' 'قيم' 'كان' 'كانت' 'كبر'\n",
      " 'كتب' 'كثر' 'كرم' 'كشف' 'كلف' 'كلم' 'كمل' 'كورو' 'كون' 'لأن' 'لجن' 'لحظ'\n",
      " 'لحق' 'لزم' 'لعب' 'لغة' 'لقء' 'لكة' 'لكل' 'لكن' 'لكي' 'لمذ' 'لير' 'مثل'\n",
      " 'مدن' 'مرة' 'مرس' 'مرض' 'مكن' 'ملف' 'ملك' 'ملي' 'منح' 'منع' 'مول' 'ناج'\n",
      " 'نتج' 'نجح' 'نخب' 'ندي' 'نزل' 'نسب' 'نسق' 'نشر' 'نشط' 'نصب' 'نصر' 'نصف'\n",
      " 'نطق' 'نظر' 'نظم' 'نفذ' 'نفس' 'نقب' 'نقد' 'نقش' 'نقل' 'نمي' 'نهم' 'نهي'\n",
      " 'نوب' 'نوع' 'نيب' 'هجر' 'هدف' 'هسبريس' 'هني' 'هيئ' 'وأن' 'واد' 'والتي'\n",
      " 'وبء' 'وثق' 'وجب' 'وجد' 'وجه' 'وحد' 'وذل' 'ورب' 'ورد' 'ورق' 'وزر' 'وزع'\n",
      " 'وسط' 'وسع' 'وسل' 'وسم' 'وصف' 'وصل' 'وضح' 'وضع' 'وطن' 'وظف' 'وعد' 'وغر'\n",
      " 'وفر' 'وفق' 'وفي' 'وقت' 'وقد' 'وقع' 'وقف' 'وقي' 'وكذ' 'وكل' 'ولد' 'ولم'\n",
      " 'ولى' 'ولي' 'وهي' 'يتم' 'يجب' 'يرس' 'يضء' 'يعد' 'يقل' 'يكون' 'يلم' 'يمكن'\n",
      " 'يوم']\n"
     ]
    }
   ],
   "source": [
    "print(\"Top {} the most used word in Stories: {}\".format(max_features,count_vectorizer.get_feature_names_out()))"
   ]
  },
  {
   "cell_type": "code",
   "execution_count": 44,
   "id": "f5e26af5",
   "metadata": {},
   "outputs": [],
   "source": [
    "y=stories['label']"
   ]
  },
  {
   "cell_type": "code",
   "execution_count": 45,
   "id": "32bd54c3",
   "metadata": {},
   "outputs": [],
   "source": [
    "## Divide the dataset into Train and Test\n",
    "from sklearn.model_selection import train_test_split"
   ]
  },
  {
   "cell_type": "code",
   "execution_count": 46,
   "id": "a988c44e",
   "metadata": {},
   "outputs": [],
   "source": [
    "X_train, X_test, y_train, y_test=train_test_split(X,y,test_size=0.2, random_state=42)"
   ]
  },
  {
   "cell_type": "code",
   "execution_count": 47,
   "id": "026716df",
   "metadata": {},
   "outputs": [
    {
     "data": {
      "text/plain": [
       "array([[0, 0, 0, ..., 0, 0, 0],\n",
       "       [0, 0, 1, ..., 0, 2, 2],\n",
       "       [0, 0, 0, ..., 0, 0, 0],\n",
       "       ...,\n",
       "       [0, 0, 1, ..., 0, 2, 1],\n",
       "       [2, 0, 1, ..., 0, 3, 1],\n",
       "       [0, 0, 0, ..., 0, 0, 0]], dtype=int64)"
      ]
     },
     "execution_count": 47,
     "metadata": {},
     "output_type": "execute_result"
    }
   ],
   "source": [
    "X_test"
   ]
  },
  {
   "cell_type": "code",
   "execution_count": 48,
   "id": "a5e5e2b4",
   "metadata": {},
   "outputs": [
    {
     "data": {
      "text/plain": [
       "(2200, 500)"
      ]
     },
     "execution_count": 48,
     "metadata": {},
     "output_type": "execute_result"
    }
   ],
   "source": [
    "X_test.shape"
   ]
  },
  {
   "cell_type": "code",
   "execution_count": 49,
   "id": "e2989664",
   "metadata": {},
   "outputs": [],
   "source": [
    "from sklearn.naive_bayes import MultinomialNB\n",
    "classifier=MultinomialNB()"
   ]
  },
  {
   "cell_type": "code",
   "execution_count": 50,
   "id": "ec67f98c",
   "metadata": {},
   "outputs": [
    {
     "data": {
      "text/html": [
       "<style>#sk-container-id-1 {color: black;background-color: white;}#sk-container-id-1 pre{padding: 0;}#sk-container-id-1 div.sk-toggleable {background-color: white;}#sk-container-id-1 label.sk-toggleable__label {cursor: pointer;display: block;width: 100%;margin-bottom: 0;padding: 0.3em;box-sizing: border-box;text-align: center;}#sk-container-id-1 label.sk-toggleable__label-arrow:before {content: \"▸\";float: left;margin-right: 0.25em;color: #696969;}#sk-container-id-1 label.sk-toggleable__label-arrow:hover:before {color: black;}#sk-container-id-1 div.sk-estimator:hover label.sk-toggleable__label-arrow:before {color: black;}#sk-container-id-1 div.sk-toggleable__content {max-height: 0;max-width: 0;overflow: hidden;text-align: left;background-color: #f0f8ff;}#sk-container-id-1 div.sk-toggleable__content pre {margin: 0.2em;color: black;border-radius: 0.25em;background-color: #f0f8ff;}#sk-container-id-1 input.sk-toggleable__control:checked~div.sk-toggleable__content {max-height: 200px;max-width: 100%;overflow: auto;}#sk-container-id-1 input.sk-toggleable__control:checked~label.sk-toggleable__label-arrow:before {content: \"▾\";}#sk-container-id-1 div.sk-estimator input.sk-toggleable__control:checked~label.sk-toggleable__label {background-color: #d4ebff;}#sk-container-id-1 div.sk-label input.sk-toggleable__control:checked~label.sk-toggleable__label {background-color: #d4ebff;}#sk-container-id-1 input.sk-hidden--visually {border: 0;clip: rect(1px 1px 1px 1px);clip: rect(1px, 1px, 1px, 1px);height: 1px;margin: -1px;overflow: hidden;padding: 0;position: absolute;width: 1px;}#sk-container-id-1 div.sk-estimator {font-family: monospace;background-color: #f0f8ff;border: 1px dotted black;border-radius: 0.25em;box-sizing: border-box;margin-bottom: 0.5em;}#sk-container-id-1 div.sk-estimator:hover {background-color: #d4ebff;}#sk-container-id-1 div.sk-parallel-item::after {content: \"\";width: 100%;border-bottom: 1px solid gray;flex-grow: 1;}#sk-container-id-1 div.sk-label:hover label.sk-toggleable__label {background-color: #d4ebff;}#sk-container-id-1 div.sk-serial::before {content: \"\";position: absolute;border-left: 1px solid gray;box-sizing: border-box;top: 0;bottom: 0;left: 50%;z-index: 0;}#sk-container-id-1 div.sk-serial {display: flex;flex-direction: column;align-items: center;background-color: white;padding-right: 0.2em;padding-left: 0.2em;position: relative;}#sk-container-id-1 div.sk-item {position: relative;z-index: 1;}#sk-container-id-1 div.sk-parallel {display: flex;align-items: stretch;justify-content: center;background-color: white;position: relative;}#sk-container-id-1 div.sk-item::before, #sk-container-id-1 div.sk-parallel-item::before {content: \"\";position: absolute;border-left: 1px solid gray;box-sizing: border-box;top: 0;bottom: 0;left: 50%;z-index: -1;}#sk-container-id-1 div.sk-parallel-item {display: flex;flex-direction: column;z-index: 1;position: relative;background-color: white;}#sk-container-id-1 div.sk-parallel-item:first-child::after {align-self: flex-end;width: 50%;}#sk-container-id-1 div.sk-parallel-item:last-child::after {align-self: flex-start;width: 50%;}#sk-container-id-1 div.sk-parallel-item:only-child::after {width: 0;}#sk-container-id-1 div.sk-dashed-wrapped {border: 1px dashed gray;margin: 0 0.4em 0.5em 0.4em;box-sizing: border-box;padding-bottom: 0.4em;background-color: white;}#sk-container-id-1 div.sk-label label {font-family: monospace;font-weight: bold;display: inline-block;line-height: 1.2em;}#sk-container-id-1 div.sk-label-container {text-align: center;}#sk-container-id-1 div.sk-container {/* jupyter's `normalize.less` sets `[hidden] { display: none; }` but bootstrap.min.css set `[hidden] { display: none !important; }` so we also need the `!important` here to be able to override the default hidden behavior on the sphinx rendered scikit-learn.org. See: https://github.com/scikit-learn/scikit-learn/issues/21755 */display: inline-block !important;position: relative;}#sk-container-id-1 div.sk-text-repr-fallback {display: none;}</style><div id=\"sk-container-id-1\" class=\"sk-top-container\"><div class=\"sk-text-repr-fallback\"><pre>MultinomialNB()</pre><b>In a Jupyter environment, please rerun this cell to show the HTML representation or trust the notebook. <br />On GitHub, the HTML representation is unable to render, please try loading this page with nbviewer.org.</b></div><div class=\"sk-container\" hidden><div class=\"sk-item\"><div class=\"sk-estimator sk-toggleable\"><input class=\"sk-toggleable__control sk-hidden--visually\" id=\"sk-estimator-id-1\" type=\"checkbox\" checked><label for=\"sk-estimator-id-1\" class=\"sk-toggleable__label sk-toggleable__label-arrow\">MultinomialNB</label><div class=\"sk-toggleable__content\"><pre>MultinomialNB()</pre></div></div></div></div></div>"
      ],
      "text/plain": [
       "MultinomialNB()"
      ]
     },
     "execution_count": 50,
     "metadata": {},
     "output_type": "execute_result"
    }
   ],
   "source": [
    "classifier.fit(X_train,y_train)"
   ]
  },
  {
   "cell_type": "code",
   "execution_count": 51,
   "id": "499c6e0e",
   "metadata": {},
   "outputs": [
    {
     "data": {
      "text/plain": [
       "array(['art-et-culture', 'orbites', 'politique', ..., 'tamazight',\n",
       "       'orbites', 'marocains-du-monde'], dtype='<U18')"
      ]
     },
     "execution_count": 51,
     "metadata": {},
     "output_type": "execute_result"
    }
   ],
   "source": [
    "pred=classifier.predict(X_test)\n",
    "pred"
   ]
  },
  {
   "cell_type": "code",
   "execution_count": 56,
   "id": "04752277",
   "metadata": {},
   "outputs": [
    {
     "name": "stdout",
     "output_type": "stream",
     "text": [
      "Classification Report:\n",
      "                    precision    recall  f1-score   support\n",
      "\n",
      "    art-et-culture       0.74      0.79      0.76       206\n",
      "          economie       0.75      0.77      0.76       202\n",
      "      faits-divers       0.97      0.88      0.92       184\n",
      "marocains-du-monde       0.72      0.72      0.72       214\n",
      "            medias       0.71      0.81      0.76       197\n",
      "           orbites       0.62      0.50      0.56       204\n",
      "         politique       0.70      0.75      0.72       210\n",
      "           regions       0.63      0.76      0.69       178\n",
      "           societe       0.58      0.50      0.54       198\n",
      "             sport       0.96      0.96      0.96       194\n",
      "         tamazight       0.90      0.83      0.86       213\n",
      "\n",
      "          accuracy                           0.75      2200\n",
      "         macro avg       0.75      0.75      0.75      2200\n",
      "      weighted avg       0.75      0.75      0.75      2200\n",
      "\n"
     ]
    }
   ],
   "source": [
    "from sklearn.metrics import classification_report, accuracy_score\n",
    "# Calculate and print the precision, recall, and F1-score for each class\n",
    "report = classification_report(y_test, pred)\n",
    "print(\"Classification Report:\")\n",
    "print(report)"
   ]
  },
  {
   "cell_type": "markdown",
   "id": "ddfba236",
   "metadata": {},
   "source": [
    "**Precision:**\n",
    "Precision represents the proportion of true positive predictions (correctly classified instances) for a specific class (category) among all instances that the model has predicted as belonging to that class. In this context, it tells us how many of the predicted instances for each category are actually relevant or correct.\n",
    "\n",
    "**Recall:**\n",
    "Recall, also known as sensitivity or true positive rate, measures the proportion of true positive predictions (correctly classified instances) for a specific class among all instances that truly belong to that class. In other words, it tells us how many of the actual instances of each category were correctly predicted by the model.\n",
    "\n",
    "**F1-score:**\n",
    "The F1-score is the harmonic mean of precision and recall. It provides a balanced measure of a model's performance, taking both precision and recall into account. F1-score is useful when there is an uneven class distribution (i.e., some classes have more instances than others).\n",
    "\n",
    "\n",
    "**Accuracy:**\n",
    "Accuracy is a general metric that measures the overall correctness of the model's predictions. It is the proportion of correctly predicted instances (true positives and true negatives) out of the total number of instances.\n",
    "\n"
   ]
  },
  {
   "cell_type": "markdown",
   "id": "86a50757",
   "metadata": {},
   "source": [
    "**So let's take art-et-culture class as example for our explanation** \n",
    "Precision: Number of correctly predicted \"art-et-culture\" out of all positive predictions made for this class. In this case, 74% of the samples predicted as \"art-et-culture\" were correct.\n",
    "\n",
    "Recall: The proportion of true positive predictions out of all actual positive samples in the test set. Here, 79% of the actual \"art-et-culture\" samples were correctly identified.\n",
    "\n",
    "F1-score: The harmonic mean of precision and recall. It balances precision and recall, providing a single metric to evaluate the classifier's performance. In this case, the F1-score is 0.76.\n",
    "\n",
    "Accuracy: Since it's a general metric so it will not be specific for a class but overall model performance. It is the proportion of correctly predicted instances out of total number of instances \n",
    "\n",
    "**Same explanation for the rest of classes**"
   ]
  },
  {
   "cell_type": "code",
   "execution_count": 58,
   "id": "d71c7a73",
   "metadata": {},
   "outputs": [
    {
     "name": "stdout",
     "output_type": "stream",
     "text": [
      "Accuracy: 0.75\n"
     ]
    }
   ],
   "source": [
    "# Calculate and print the overall accuracy\n",
    "accuracy = accuracy_score(y_test, pred)\n",
    "print(\"Accuracy:\", accuracy)"
   ]
  },
  {
   "cell_type": "markdown",
   "id": "37b091a3",
   "metadata": {},
   "source": [
    "# Strategies for Improved Results\n",
    "\n",
    "**Data Augmentation:** The cornerstone of modern machine learning is the understanding that more data leads to better results. Therefore, a primary consideration should be acquiring more data, whether through manual collection or generating it using techniques like Language Models (LLMs) or Generative Adversarial Networks (GANs).\n",
    "\n",
    "**Utilize Deep Learning Models:** In the realm of Natural Language Processing (NLP), deep learning models have proven to be incredibly powerful. Consider training a deep learning model from scratch or employing transfer learning techniques to leverage pre-trained embeddings for your task.\n",
    "\n",
    "**Hyperparameter Tuning:** To achieve optimal performance, dedicate ample time to hyperparameter tuning. Exhaustively explore all possible combinations of hyperparameters to identify the settings that yield the highest accuracy.\n",
    "\n",
    "**Experiment with Ensemble Learning:** Instead of relying solely on a single robust model as done in traditional machine learning, try employing ensemble learning techniques. Ensemble methods combine predictions from multiple models to potentially enhance overall performance and generalization."
   ]
  },
  {
   "cell_type": "code",
   "execution_count": null,
   "id": "907f3ea6",
   "metadata": {},
   "outputs": [],
   "source": []
  }
 ],
 "metadata": {
  "kernelspec": {
   "display_name": "Python 3 (ipykernel)",
   "language": "python",
   "name": "python3"
  },
  "language_info": {
   "codemirror_mode": {
    "name": "ipython",
    "version": 3
   },
   "file_extension": ".py",
   "mimetype": "text/x-python",
   "name": "python",
   "nbconvert_exporter": "python",
   "pygments_lexer": "ipython3",
   "version": "3.11.3"
  }
 },
 "nbformat": 4,
 "nbformat_minor": 5
}
